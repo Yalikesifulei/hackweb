{
  "nbformat": 4,
  "nbformat_minor": 0,
  "metadata": {
    "colab": {
      "name": "INT20H_xgb.ipynb",
      "provenance": [],
      "collapsed_sections": []
    },
    "kernelspec": {
      "name": "python3",
      "display_name": "Python 3"
    }
  },
  "cells": [
    {
      "cell_type": "code",
      "metadata": {
        "colab": {
          "base_uri": "https://localhost:8080/"
        },
        "id": "Ee3SO6MGTR4q",
        "outputId": "6824d945-ff1d-4a4e-b333-6e479d536b13"
      },
      "source": [
        "!pip install -q kaggle\r\n",
        "!cp kaggle.json ~/.kaggle/\r\n",
        "!chmod 600 ~/.kaggle/kaggle.json\r\n",
        "!kaggle competitions download -c predictingbookratingsint20h\r\n",
        "!unzip train.csv.zip\r\n",
        "!unzip test.csv.zip"
      ],
      "execution_count": 1,
      "outputs": [
        {
          "output_type": "stream",
          "text": [
            "Warning: Looks like you're using an outdated API Version, please consider updating (server 1.5.10 / client 1.5.4)\n",
            "Downloading test.csv.zip to /content\n",
            "  0% 0.00/1.65M [00:00<?, ?B/s]\n",
            "100% 1.65M/1.65M [00:00<00:00, 54.8MB/s]\n",
            "Downloading submission.csv to /content\n",
            "  0% 0.00/25.5k [00:00<?, ?B/s]\n",
            "100% 25.5k/25.5k [00:00<00:00, 22.9MB/s]\n",
            "Downloading train.csv.zip to /content\n",
            " 51% 9.00M/17.5M [00:00<00:00, 22.5MB/s]\n",
            "100% 17.5M/17.5M [00:00<00:00, 35.6MB/s]\n",
            "Archive:  train.csv.zip\n",
            "  inflating: train.csv               \n",
            "Archive:  test.csv.zip\n",
            "  inflating: test.csv                \n"
          ],
          "name": "stdout"
        }
      ]
    },
    {
      "cell_type": "code",
      "metadata": {
        "id": "-m86Qea0TZLE"
      },
      "source": [
        "import numpy as np\r\n",
        "import pandas as pd\r\n",
        "import matplotlib.pyplot as plt"
      ],
      "execution_count": 2,
      "outputs": []
    },
    {
      "cell_type": "code",
      "metadata": {
        "id": "vGQ3ibG4TzER"
      },
      "source": [
        "train = pd.read_csv('./train.csv', index_col='id')\r\n",
        "test = pd.read_csv('./test.csv', index_col='id')"
      ],
      "execution_count": 3,
      "outputs": []
    },
    {
      "cell_type": "code",
      "metadata": {
        "colab": {
          "base_uri": "https://localhost:8080/",
          "height": 211
        },
        "id": "-rL--6ykTzn4",
        "outputId": "942545ab-bcb9-49d6-a9c1-71ea5b8fa14c"
      },
      "source": [
        "train.head(3)"
      ],
      "execution_count": 4,
      "outputs": [
        {
          "output_type": "execute_result",
          "data": {
            "text/html": [
              "<div>\n",
              "<style scoped>\n",
              "    .dataframe tbody tr th:only-of-type {\n",
              "        vertical-align: middle;\n",
              "    }\n",
              "\n",
              "    .dataframe tbody tr th {\n",
              "        vertical-align: top;\n",
              "    }\n",
              "\n",
              "    .dataframe thead th {\n",
              "        text-align: right;\n",
              "    }\n",
              "</style>\n",
              "<table border=\"1\" class=\"dataframe\">\n",
              "  <thead>\n",
              "    <tr style=\"text-align: right;\">\n",
              "      <th></th>\n",
              "      <th>book_title</th>\n",
              "      <th>book_image_url</th>\n",
              "      <th>book_desc</th>\n",
              "      <th>book_genre</th>\n",
              "      <th>book_authors</th>\n",
              "      <th>book_format</th>\n",
              "      <th>book_pages</th>\n",
              "      <th>book_review_count</th>\n",
              "      <th>book_rating_count</th>\n",
              "      <th>book_rating</th>\n",
              "    </tr>\n",
              "    <tr>\n",
              "      <th>id</th>\n",
              "      <th></th>\n",
              "      <th></th>\n",
              "      <th></th>\n",
              "      <th></th>\n",
              "      <th></th>\n",
              "      <th></th>\n",
              "      <th></th>\n",
              "      <th></th>\n",
              "      <th></th>\n",
              "      <th></th>\n",
              "    </tr>\n",
              "  </thead>\n",
              "  <tbody>\n",
              "    <tr>\n",
              "      <th>0</th>\n",
              "      <td>Forastera</td>\n",
              "      <td>https://images.gr-assets.com/books/1500683049l...</td>\n",
              "      <td>Recién acabada la Segunda Guerra Mundial, una ...</td>\n",
              "      <td>Historical|Historical Fiction|Romance|Fantasy|...</td>\n",
              "      <td>Diana Gabaldon|Carmen Bordeu</td>\n",
              "      <td>Kindle Edition</td>\n",
              "      <td>768 pages</td>\n",
              "      <td>40197</td>\n",
              "      <td>668892</td>\n",
              "      <td>4.22</td>\n",
              "    </tr>\n",
              "    <tr>\n",
              "      <th>1</th>\n",
              "      <td>Writing about Magic</td>\n",
              "      <td>https://images.gr-assets.com/books/1445900480l...</td>\n",
              "      <td>Do you write fantasy fiction? This book is a r...</td>\n",
              "      <td>Language|Writing|Nonfiction</td>\n",
              "      <td>Rayne Hall</td>\n",
              "      <td>Paperback</td>\n",
              "      <td>180 pages</td>\n",
              "      <td>27</td>\n",
              "      <td>126</td>\n",
              "      <td>3.95</td>\n",
              "    </tr>\n",
              "    <tr>\n",
              "      <th>2</th>\n",
              "      <td>The Stress of Her Regard</td>\n",
              "      <td>https://images.gr-assets.com/books/1503059955l...</td>\n",
              "      <td>When Michael Crawford discovers his bride brut...</td>\n",
              "      <td>Fantasy|Horror|Paranormal|Vampires|Historical|...</td>\n",
              "      <td>Tim Powers</td>\n",
              "      <td>Paperback</td>\n",
              "      <td>470 pages</td>\n",
              "      <td>331</td>\n",
              "      <td>3626</td>\n",
              "      <td>3.79</td>\n",
              "    </tr>\n",
              "  </tbody>\n",
              "</table>\n",
              "</div>"
            ],
            "text/plain": [
              "                  book_title  ... book_rating\n",
              "id                            ...            \n",
              "0                  Forastera  ...        4.22\n",
              "1        Writing about Magic  ...        3.95\n",
              "2   The Stress of Her Regard  ...        3.79\n",
              "\n",
              "[3 rows x 10 columns]"
            ]
          },
          "metadata": {
            "tags": []
          },
          "execution_count": 4
        }
      ]
    },
    {
      "cell_type": "code",
      "metadata": {
        "id": "M0ZPkXSET1Or"
      },
      "source": [
        "train['book_genre'] = train['book_genre'].fillna('nan')\r\n",
        "test['book_genre'] = test['book_genre'].fillna('nan')"
      ],
      "execution_count": 5,
      "outputs": []
    },
    {
      "cell_type": "code",
      "metadata": {
        "id": "m-OQgiUeT2vE"
      },
      "source": [
        "def get_genres(df):\r\n",
        "  genres = list(df['book_genre'])\r\n",
        "  genres = list(map(lambda x: x.split('|'), genres))\r\n",
        "  genres = [item for sublist in genres for item in sublist]\r\n",
        "  genres = np.array(genres)\r\n",
        "  genres_unique, unique_counts = np.unique(genres, return_counts=True)\r\n",
        "  return genres, dict(zip(genres_unique, unique_counts))"
      ],
      "execution_count": 6,
      "outputs": []
    },
    {
      "cell_type": "code",
      "metadata": {
        "id": "mIrexAAfT3w4"
      },
      "source": [
        "train_genres, train_genres_unique = get_genres(train)"
      ],
      "execution_count": 7,
      "outputs": []
    },
    {
      "cell_type": "code",
      "metadata": {
        "id": "cVlqW5TQT490"
      },
      "source": [
        "def process(init_df, genres_unique, threshold = 2000):\r\n",
        "  df = init_df.copy()\r\n",
        "  top_genres = [g for g in genres_unique.keys() if genres_unique[g] > threshold] + ['Other']\r\n",
        "  for genre in top_genres:\r\n",
        "        df[f'genre_({genre})'] = np.zeros((len(df)))\r\n",
        "  for i in range(len(df)):\r\n",
        "    genres_list = df.iloc[i]['book_genre'].split('|')\r\n",
        "    for genre in genres_list:\r\n",
        "      if genre in top_genres:\r\n",
        "        df.at[i, f'genre_({genre})'] = 1\r\n",
        "  df['book_pages'] = df['book_pages'].astype(str).apply(lambda x: int(x.split()[0]) if x.split()[0] != 'nan' else 0)\r\n",
        "  df = df.drop(columns=['book_genre', 'book_image_url'])\r\n",
        "  return df"
      ],
      "execution_count": 8,
      "outputs": []
    },
    {
      "cell_type": "code",
      "metadata": {
        "id": "YnZB-w22T6GO"
      },
      "source": [
        "threshold = 2000\r\n",
        "\r\n",
        "train_processed = train.copy() \r\n",
        "train_processed = process(train_processed, train_genres_unique)\r\n",
        "\r\n",
        "test_processed = test.copy() \r\n",
        "test_processed = process(test_processed, train_genres_unique)"
      ],
      "execution_count": 9,
      "outputs": []
    },
    {
      "cell_type": "code",
      "metadata": {
        "id": "5TU1siGST757"
      },
      "source": [
        "train_processed['book_format'] = train_processed['book_format'].fillna('nan')\r\n",
        "test_processed['book_format'] = test_processed['book_format'].fillna('nan')"
      ],
      "execution_count": 10,
      "outputs": []
    },
    {
      "cell_type": "code",
      "metadata": {
        "id": "BYMj36llT9ka"
      },
      "source": [
        "formats = ['soft_cover', 'hard_cover', 'ebook', 'audio', 'other']\r\n",
        "def proc_formats(init_df, formats):\r\n",
        "  df = init_df.copy()\r\n",
        "  for format in formats:\r\n",
        "        df[f'format_({format})'] = np.zeros((len(df)))\r\n",
        "  for i in range(len(df)):\r\n",
        "    formats_list = df.iloc[i]['book_format']\r\n",
        "    if any([format in formats_list.lower() for format in ['paper', 'soft']]):\r\n",
        "      df.at[i, 'format_(soft_cover)'] = 1\r\n",
        "    elif any([format in formats_list.lower() for format in ['hard']]):\r\n",
        "      df.at[i, 'format_(hard_cover)'] = 1\r\n",
        "    elif any([format in formats_list.lower() for format in ['ebook', 'kindle', 'nook', 'digital']]):\r\n",
        "      df.at[i, 'format_(ebook)'] = 1\r\n",
        "    elif any([format in formats_list.lower() for format in ['audio', 'cd']]):\r\n",
        "      df.at[i, 'format_(audio)'] = 1\r\n",
        "    else:\r\n",
        "      df.at[i, 'format_(other)'] = 1\r\n",
        "  df = df.drop(columns=['book_format'])\r\n",
        "  return df"
      ],
      "execution_count": 11,
      "outputs": []
    },
    {
      "cell_type": "code",
      "metadata": {
        "id": "JDi3IWzBT-mf"
      },
      "source": [
        "train_processed = proc_formats(train_processed, formats)\r\n",
        "test_processed = proc_formats(test_processed, formats)"
      ],
      "execution_count": 12,
      "outputs": []
    },
    {
      "cell_type": "code",
      "metadata": {
        "id": "19NjvhshT_su"
      },
      "source": [
        "train_processed['authors_number'] = train_processed['book_authors'].apply(lambda x: len(x.split('|')))\r\n",
        "train_processed = train_processed.drop(columns=['book_authors'])\r\n",
        "test_processed['authors_number'] = test_processed['book_authors'].apply(lambda x: len(x.split('|')))\r\n",
        "test_processed = test_processed.drop(columns=['book_authors'])"
      ],
      "execution_count": 13,
      "outputs": []
    },
    {
      "cell_type": "code",
      "metadata": {
        "colab": {
          "base_uri": "https://localhost:8080/",
          "height": 442
        },
        "id": "vLz5CgOEUCBs",
        "outputId": "7ceb7b27-eb1e-4106-c730-cb78406a70d1"
      },
      "source": [
        "train_processed.head(3)"
      ],
      "execution_count": 14,
      "outputs": [
        {
          "output_type": "execute_result",
          "data": {
            "text/html": [
              "<div>\n",
              "<style scoped>\n",
              "    .dataframe tbody tr th:only-of-type {\n",
              "        vertical-align: middle;\n",
              "    }\n",
              "\n",
              "    .dataframe tbody tr th {\n",
              "        vertical-align: top;\n",
              "    }\n",
              "\n",
              "    .dataframe thead th {\n",
              "        text-align: right;\n",
              "    }\n",
              "</style>\n",
              "<table border=\"1\" class=\"dataframe\">\n",
              "  <thead>\n",
              "    <tr style=\"text-align: right;\">\n",
              "      <th></th>\n",
              "      <th>book_title</th>\n",
              "      <th>book_desc</th>\n",
              "      <th>book_pages</th>\n",
              "      <th>book_review_count</th>\n",
              "      <th>book_rating_count</th>\n",
              "      <th>book_rating</th>\n",
              "      <th>genre_(Biography)</th>\n",
              "      <th>genre_(Childrens)</th>\n",
              "      <th>genre_(Classics)</th>\n",
              "      <th>genre_(Contemporary)</th>\n",
              "      <th>genre_(Cultural)</th>\n",
              "      <th>genre_(European Literature)</th>\n",
              "      <th>genre_(Fantasy)</th>\n",
              "      <th>genre_(Fiction)</th>\n",
              "      <th>genre_(Historical)</th>\n",
              "      <th>genre_(Historical Fiction)</th>\n",
              "      <th>genre_(History)</th>\n",
              "      <th>genre_(Literature)</th>\n",
              "      <th>genre_(Mystery)</th>\n",
              "      <th>genre_(Nonfiction)</th>\n",
              "      <th>genre_(Paranormal)</th>\n",
              "      <th>genre_(Religion)</th>\n",
              "      <th>genre_(Romance)</th>\n",
              "      <th>genre_(Science Fiction)</th>\n",
              "      <th>genre_(Sequential Art)</th>\n",
              "      <th>genre_(Thriller)</th>\n",
              "      <th>genre_(Young Adult)</th>\n",
              "      <th>genre_(nan)</th>\n",
              "      <th>genre_(Other)</th>\n",
              "      <th>format_(soft_cover)</th>\n",
              "      <th>format_(hard_cover)</th>\n",
              "      <th>format_(ebook)</th>\n",
              "      <th>format_(audio)</th>\n",
              "      <th>format_(other)</th>\n",
              "      <th>authors_number</th>\n",
              "    </tr>\n",
              "    <tr>\n",
              "      <th>id</th>\n",
              "      <th></th>\n",
              "      <th></th>\n",
              "      <th></th>\n",
              "      <th></th>\n",
              "      <th></th>\n",
              "      <th></th>\n",
              "      <th></th>\n",
              "      <th></th>\n",
              "      <th></th>\n",
              "      <th></th>\n",
              "      <th></th>\n",
              "      <th></th>\n",
              "      <th></th>\n",
              "      <th></th>\n",
              "      <th></th>\n",
              "      <th></th>\n",
              "      <th></th>\n",
              "      <th></th>\n",
              "      <th></th>\n",
              "      <th></th>\n",
              "      <th></th>\n",
              "      <th></th>\n",
              "      <th></th>\n",
              "      <th></th>\n",
              "      <th></th>\n",
              "      <th></th>\n",
              "      <th></th>\n",
              "      <th></th>\n",
              "      <th></th>\n",
              "      <th></th>\n",
              "      <th></th>\n",
              "      <th></th>\n",
              "      <th></th>\n",
              "      <th></th>\n",
              "      <th></th>\n",
              "    </tr>\n",
              "  </thead>\n",
              "  <tbody>\n",
              "    <tr>\n",
              "      <th>0</th>\n",
              "      <td>Forastera</td>\n",
              "      <td>Recién acabada la Segunda Guerra Mundial, una ...</td>\n",
              "      <td>768</td>\n",
              "      <td>40197</td>\n",
              "      <td>668892</td>\n",
              "      <td>4.22</td>\n",
              "      <td>0.0</td>\n",
              "      <td>0.0</td>\n",
              "      <td>0.0</td>\n",
              "      <td>0.0</td>\n",
              "      <td>0.0</td>\n",
              "      <td>0.0</td>\n",
              "      <td>1.0</td>\n",
              "      <td>1.0</td>\n",
              "      <td>1.0</td>\n",
              "      <td>1.0</td>\n",
              "      <td>0.0</td>\n",
              "      <td>0.0</td>\n",
              "      <td>0.0</td>\n",
              "      <td>0.0</td>\n",
              "      <td>0.0</td>\n",
              "      <td>0.0</td>\n",
              "      <td>1.0</td>\n",
              "      <td>1.0</td>\n",
              "      <td>0.0</td>\n",
              "      <td>0.0</td>\n",
              "      <td>0.0</td>\n",
              "      <td>0.0</td>\n",
              "      <td>0.0</td>\n",
              "      <td>0.0</td>\n",
              "      <td>0.0</td>\n",
              "      <td>1.0</td>\n",
              "      <td>0.0</td>\n",
              "      <td>0.0</td>\n",
              "      <td>2</td>\n",
              "    </tr>\n",
              "    <tr>\n",
              "      <th>1</th>\n",
              "      <td>Writing about Magic</td>\n",
              "      <td>Do you write fantasy fiction? This book is a r...</td>\n",
              "      <td>180</td>\n",
              "      <td>27</td>\n",
              "      <td>126</td>\n",
              "      <td>3.95</td>\n",
              "      <td>0.0</td>\n",
              "      <td>0.0</td>\n",
              "      <td>0.0</td>\n",
              "      <td>0.0</td>\n",
              "      <td>0.0</td>\n",
              "      <td>0.0</td>\n",
              "      <td>0.0</td>\n",
              "      <td>0.0</td>\n",
              "      <td>0.0</td>\n",
              "      <td>0.0</td>\n",
              "      <td>0.0</td>\n",
              "      <td>0.0</td>\n",
              "      <td>0.0</td>\n",
              "      <td>1.0</td>\n",
              "      <td>0.0</td>\n",
              "      <td>0.0</td>\n",
              "      <td>0.0</td>\n",
              "      <td>0.0</td>\n",
              "      <td>0.0</td>\n",
              "      <td>0.0</td>\n",
              "      <td>0.0</td>\n",
              "      <td>0.0</td>\n",
              "      <td>0.0</td>\n",
              "      <td>1.0</td>\n",
              "      <td>0.0</td>\n",
              "      <td>0.0</td>\n",
              "      <td>0.0</td>\n",
              "      <td>0.0</td>\n",
              "      <td>1</td>\n",
              "    </tr>\n",
              "    <tr>\n",
              "      <th>2</th>\n",
              "      <td>The Stress of Her Regard</td>\n",
              "      <td>When Michael Crawford discovers his bride brut...</td>\n",
              "      <td>470</td>\n",
              "      <td>331</td>\n",
              "      <td>3626</td>\n",
              "      <td>3.79</td>\n",
              "      <td>0.0</td>\n",
              "      <td>0.0</td>\n",
              "      <td>0.0</td>\n",
              "      <td>0.0</td>\n",
              "      <td>0.0</td>\n",
              "      <td>0.0</td>\n",
              "      <td>1.0</td>\n",
              "      <td>1.0</td>\n",
              "      <td>1.0</td>\n",
              "      <td>1.0</td>\n",
              "      <td>0.0</td>\n",
              "      <td>0.0</td>\n",
              "      <td>0.0</td>\n",
              "      <td>0.0</td>\n",
              "      <td>1.0</td>\n",
              "      <td>0.0</td>\n",
              "      <td>0.0</td>\n",
              "      <td>0.0</td>\n",
              "      <td>0.0</td>\n",
              "      <td>0.0</td>\n",
              "      <td>0.0</td>\n",
              "      <td>0.0</td>\n",
              "      <td>0.0</td>\n",
              "      <td>1.0</td>\n",
              "      <td>0.0</td>\n",
              "      <td>0.0</td>\n",
              "      <td>0.0</td>\n",
              "      <td>0.0</td>\n",
              "      <td>1</td>\n",
              "    </tr>\n",
              "  </tbody>\n",
              "</table>\n",
              "</div>"
            ],
            "text/plain": [
              "                  book_title  ... authors_number\n",
              "id                            ...               \n",
              "0                  Forastera  ...              2\n",
              "1        Writing about Magic  ...              1\n",
              "2   The Stress of Her Regard  ...              1\n",
              "\n",
              "[3 rows x 35 columns]"
            ]
          },
          "metadata": {
            "tags": []
          },
          "execution_count": 14
        }
      ]
    },
    {
      "cell_type": "code",
      "metadata": {
        "id": "fmTrN-ETUDWW"
      },
      "source": [
        "train_processed['title_len'] = train_processed['book_title'].apply(lambda x: len(x.split(' ')))\r\n",
        "train_processed = train_processed.drop(columns=['book_desc', 'book_title'])\r\n",
        "test_processed['title_len'] = test_processed['book_title'].apply(lambda x: len(x.split(' ')))\r\n",
        "test_processed = test_processed.drop(columns=['book_desc', 'book_title'])"
      ],
      "execution_count": 15,
      "outputs": []
    },
    {
      "cell_type": "code",
      "metadata": {
        "colab": {
          "base_uri": "https://localhost:8080/",
          "height": 456
        },
        "id": "bi4tnlOzUE7w",
        "outputId": "5d792fb7-64ec-444f-c1ba-b258099ec216"
      },
      "source": [
        "train_processed"
      ],
      "execution_count": 16,
      "outputs": [
        {
          "output_type": "execute_result",
          "data": {
            "text/html": [
              "<div>\n",
              "<style scoped>\n",
              "    .dataframe tbody tr th:only-of-type {\n",
              "        vertical-align: middle;\n",
              "    }\n",
              "\n",
              "    .dataframe tbody tr th {\n",
              "        vertical-align: top;\n",
              "    }\n",
              "\n",
              "    .dataframe thead th {\n",
              "        text-align: right;\n",
              "    }\n",
              "</style>\n",
              "<table border=\"1\" class=\"dataframe\">\n",
              "  <thead>\n",
              "    <tr style=\"text-align: right;\">\n",
              "      <th></th>\n",
              "      <th>book_pages</th>\n",
              "      <th>book_review_count</th>\n",
              "      <th>book_rating_count</th>\n",
              "      <th>book_rating</th>\n",
              "      <th>genre_(Biography)</th>\n",
              "      <th>genre_(Childrens)</th>\n",
              "      <th>genre_(Classics)</th>\n",
              "      <th>genre_(Contemporary)</th>\n",
              "      <th>genre_(Cultural)</th>\n",
              "      <th>genre_(European Literature)</th>\n",
              "      <th>genre_(Fantasy)</th>\n",
              "      <th>genre_(Fiction)</th>\n",
              "      <th>genre_(Historical)</th>\n",
              "      <th>genre_(Historical Fiction)</th>\n",
              "      <th>genre_(History)</th>\n",
              "      <th>genre_(Literature)</th>\n",
              "      <th>genre_(Mystery)</th>\n",
              "      <th>genre_(Nonfiction)</th>\n",
              "      <th>genre_(Paranormal)</th>\n",
              "      <th>genre_(Religion)</th>\n",
              "      <th>genre_(Romance)</th>\n",
              "      <th>genre_(Science Fiction)</th>\n",
              "      <th>genre_(Sequential Art)</th>\n",
              "      <th>genre_(Thriller)</th>\n",
              "      <th>genre_(Young Adult)</th>\n",
              "      <th>genre_(nan)</th>\n",
              "      <th>genre_(Other)</th>\n",
              "      <th>format_(soft_cover)</th>\n",
              "      <th>format_(hard_cover)</th>\n",
              "      <th>format_(ebook)</th>\n",
              "      <th>format_(audio)</th>\n",
              "      <th>format_(other)</th>\n",
              "      <th>authors_number</th>\n",
              "      <th>title_len</th>\n",
              "    </tr>\n",
              "    <tr>\n",
              "      <th>id</th>\n",
              "      <th></th>\n",
              "      <th></th>\n",
              "      <th></th>\n",
              "      <th></th>\n",
              "      <th></th>\n",
              "      <th></th>\n",
              "      <th></th>\n",
              "      <th></th>\n",
              "      <th></th>\n",
              "      <th></th>\n",
              "      <th></th>\n",
              "      <th></th>\n",
              "      <th></th>\n",
              "      <th></th>\n",
              "      <th></th>\n",
              "      <th></th>\n",
              "      <th></th>\n",
              "      <th></th>\n",
              "      <th></th>\n",
              "      <th></th>\n",
              "      <th></th>\n",
              "      <th></th>\n",
              "      <th></th>\n",
              "      <th></th>\n",
              "      <th></th>\n",
              "      <th></th>\n",
              "      <th></th>\n",
              "      <th></th>\n",
              "      <th></th>\n",
              "      <th></th>\n",
              "      <th></th>\n",
              "      <th></th>\n",
              "      <th></th>\n",
              "      <th></th>\n",
              "    </tr>\n",
              "  </thead>\n",
              "  <tbody>\n",
              "    <tr>\n",
              "      <th>0</th>\n",
              "      <td>768</td>\n",
              "      <td>40197</td>\n",
              "      <td>668892</td>\n",
              "      <td>4.22</td>\n",
              "      <td>0.0</td>\n",
              "      <td>0.0</td>\n",
              "      <td>0.0</td>\n",
              "      <td>0.0</td>\n",
              "      <td>0.0</td>\n",
              "      <td>0.0</td>\n",
              "      <td>1.0</td>\n",
              "      <td>1.0</td>\n",
              "      <td>1.0</td>\n",
              "      <td>1.0</td>\n",
              "      <td>0.0</td>\n",
              "      <td>0.0</td>\n",
              "      <td>0.0</td>\n",
              "      <td>0.0</td>\n",
              "      <td>0.0</td>\n",
              "      <td>0.0</td>\n",
              "      <td>1.0</td>\n",
              "      <td>1.0</td>\n",
              "      <td>0.0</td>\n",
              "      <td>0.0</td>\n",
              "      <td>0.0</td>\n",
              "      <td>0.0</td>\n",
              "      <td>0.0</td>\n",
              "      <td>0.0</td>\n",
              "      <td>0.0</td>\n",
              "      <td>1.0</td>\n",
              "      <td>0.0</td>\n",
              "      <td>0.0</td>\n",
              "      <td>2</td>\n",
              "      <td>1</td>\n",
              "    </tr>\n",
              "    <tr>\n",
              "      <th>1</th>\n",
              "      <td>180</td>\n",
              "      <td>27</td>\n",
              "      <td>126</td>\n",
              "      <td>3.95</td>\n",
              "      <td>0.0</td>\n",
              "      <td>0.0</td>\n",
              "      <td>0.0</td>\n",
              "      <td>0.0</td>\n",
              "      <td>0.0</td>\n",
              "      <td>0.0</td>\n",
              "      <td>0.0</td>\n",
              "      <td>0.0</td>\n",
              "      <td>0.0</td>\n",
              "      <td>0.0</td>\n",
              "      <td>0.0</td>\n",
              "      <td>0.0</td>\n",
              "      <td>0.0</td>\n",
              "      <td>1.0</td>\n",
              "      <td>0.0</td>\n",
              "      <td>0.0</td>\n",
              "      <td>0.0</td>\n",
              "      <td>0.0</td>\n",
              "      <td>0.0</td>\n",
              "      <td>0.0</td>\n",
              "      <td>0.0</td>\n",
              "      <td>0.0</td>\n",
              "      <td>0.0</td>\n",
              "      <td>1.0</td>\n",
              "      <td>0.0</td>\n",
              "      <td>0.0</td>\n",
              "      <td>0.0</td>\n",
              "      <td>0.0</td>\n",
              "      <td>1</td>\n",
              "      <td>3</td>\n",
              "    </tr>\n",
              "    <tr>\n",
              "      <th>2</th>\n",
              "      <td>470</td>\n",
              "      <td>331</td>\n",
              "      <td>3626</td>\n",
              "      <td>3.79</td>\n",
              "      <td>0.0</td>\n",
              "      <td>0.0</td>\n",
              "      <td>0.0</td>\n",
              "      <td>0.0</td>\n",
              "      <td>0.0</td>\n",
              "      <td>0.0</td>\n",
              "      <td>1.0</td>\n",
              "      <td>1.0</td>\n",
              "      <td>1.0</td>\n",
              "      <td>1.0</td>\n",
              "      <td>0.0</td>\n",
              "      <td>0.0</td>\n",
              "      <td>0.0</td>\n",
              "      <td>0.0</td>\n",
              "      <td>1.0</td>\n",
              "      <td>0.0</td>\n",
              "      <td>0.0</td>\n",
              "      <td>0.0</td>\n",
              "      <td>0.0</td>\n",
              "      <td>0.0</td>\n",
              "      <td>0.0</td>\n",
              "      <td>0.0</td>\n",
              "      <td>0.0</td>\n",
              "      <td>1.0</td>\n",
              "      <td>0.0</td>\n",
              "      <td>0.0</td>\n",
              "      <td>0.0</td>\n",
              "      <td>0.0</td>\n",
              "      <td>1</td>\n",
              "      <td>5</td>\n",
              "    </tr>\n",
              "    <tr>\n",
              "      <th>3</th>\n",
              "      <td>106</td>\n",
              "      <td>28</td>\n",
              "      <td>371</td>\n",
              "      <td>3.85</td>\n",
              "      <td>0.0</td>\n",
              "      <td>0.0</td>\n",
              "      <td>1.0</td>\n",
              "      <td>0.0</td>\n",
              "      <td>0.0</td>\n",
              "      <td>0.0</td>\n",
              "      <td>0.0</td>\n",
              "      <td>0.0</td>\n",
              "      <td>0.0</td>\n",
              "      <td>0.0</td>\n",
              "      <td>0.0</td>\n",
              "      <td>0.0</td>\n",
              "      <td>0.0</td>\n",
              "      <td>1.0</td>\n",
              "      <td>0.0</td>\n",
              "      <td>1.0</td>\n",
              "      <td>0.0</td>\n",
              "      <td>0.0</td>\n",
              "      <td>0.0</td>\n",
              "      <td>0.0</td>\n",
              "      <td>0.0</td>\n",
              "      <td>0.0</td>\n",
              "      <td>0.0</td>\n",
              "      <td>1.0</td>\n",
              "      <td>0.0</td>\n",
              "      <td>0.0</td>\n",
              "      <td>0.0</td>\n",
              "      <td>0.0</td>\n",
              "      <td>1</td>\n",
              "      <td>6</td>\n",
              "    </tr>\n",
              "    <tr>\n",
              "      <th>4</th>\n",
              "      <td>110</td>\n",
              "      <td>250</td>\n",
              "      <td>4331</td>\n",
              "      <td>3.72</td>\n",
              "      <td>0.0</td>\n",
              "      <td>0.0</td>\n",
              "      <td>1.0</td>\n",
              "      <td>0.0</td>\n",
              "      <td>1.0</td>\n",
              "      <td>1.0</td>\n",
              "      <td>0.0</td>\n",
              "      <td>1.0</td>\n",
              "      <td>0.0</td>\n",
              "      <td>0.0</td>\n",
              "      <td>0.0</td>\n",
              "      <td>1.0</td>\n",
              "      <td>0.0</td>\n",
              "      <td>0.0</td>\n",
              "      <td>0.0</td>\n",
              "      <td>0.0</td>\n",
              "      <td>0.0</td>\n",
              "      <td>0.0</td>\n",
              "      <td>0.0</td>\n",
              "      <td>0.0</td>\n",
              "      <td>0.0</td>\n",
              "      <td>0.0</td>\n",
              "      <td>0.0</td>\n",
              "      <td>1.0</td>\n",
              "      <td>0.0</td>\n",
              "      <td>0.0</td>\n",
              "      <td>0.0</td>\n",
              "      <td>0.0</td>\n",
              "      <td>3</td>\n",
              "      <td>2</td>\n",
              "    </tr>\n",
              "    <tr>\n",
              "      <th>...</th>\n",
              "      <td>...</td>\n",
              "      <td>...</td>\n",
              "      <td>...</td>\n",
              "      <td>...</td>\n",
              "      <td>...</td>\n",
              "      <td>...</td>\n",
              "      <td>...</td>\n",
              "      <td>...</td>\n",
              "      <td>...</td>\n",
              "      <td>...</td>\n",
              "      <td>...</td>\n",
              "      <td>...</td>\n",
              "      <td>...</td>\n",
              "      <td>...</td>\n",
              "      <td>...</td>\n",
              "      <td>...</td>\n",
              "      <td>...</td>\n",
              "      <td>...</td>\n",
              "      <td>...</td>\n",
              "      <td>...</td>\n",
              "      <td>...</td>\n",
              "      <td>...</td>\n",
              "      <td>...</td>\n",
              "      <td>...</td>\n",
              "      <td>...</td>\n",
              "      <td>...</td>\n",
              "      <td>...</td>\n",
              "      <td>...</td>\n",
              "      <td>...</td>\n",
              "      <td>...</td>\n",
              "      <td>...</td>\n",
              "      <td>...</td>\n",
              "      <td>...</td>\n",
              "      <td>...</td>\n",
              "    </tr>\n",
              "    <tr>\n",
              "      <th>39995</th>\n",
              "      <td>491</td>\n",
              "      <td>24661</td>\n",
              "      <td>165284</td>\n",
              "      <td>4.46</td>\n",
              "      <td>0.0</td>\n",
              "      <td>0.0</td>\n",
              "      <td>0.0</td>\n",
              "      <td>0.0</td>\n",
              "      <td>0.0</td>\n",
              "      <td>0.0</td>\n",
              "      <td>1.0</td>\n",
              "      <td>0.0</td>\n",
              "      <td>0.0</td>\n",
              "      <td>0.0</td>\n",
              "      <td>0.0</td>\n",
              "      <td>0.0</td>\n",
              "      <td>0.0</td>\n",
              "      <td>0.0</td>\n",
              "      <td>0.0</td>\n",
              "      <td>0.0</td>\n",
              "      <td>0.0</td>\n",
              "      <td>0.0</td>\n",
              "      <td>0.0</td>\n",
              "      <td>0.0</td>\n",
              "      <td>1.0</td>\n",
              "      <td>0.0</td>\n",
              "      <td>0.0</td>\n",
              "      <td>1.0</td>\n",
              "      <td>0.0</td>\n",
              "      <td>0.0</td>\n",
              "      <td>0.0</td>\n",
              "      <td>0.0</td>\n",
              "      <td>1</td>\n",
              "      <td>3</td>\n",
              "    </tr>\n",
              "    <tr>\n",
              "      <th>39996</th>\n",
              "      <td>48</td>\n",
              "      <td>130</td>\n",
              "      <td>1556</td>\n",
              "      <td>4.08</td>\n",
              "      <td>0.0</td>\n",
              "      <td>0.0</td>\n",
              "      <td>0.0</td>\n",
              "      <td>0.0</td>\n",
              "      <td>0.0</td>\n",
              "      <td>0.0</td>\n",
              "      <td>0.0</td>\n",
              "      <td>0.0</td>\n",
              "      <td>0.0</td>\n",
              "      <td>0.0</td>\n",
              "      <td>0.0</td>\n",
              "      <td>0.0</td>\n",
              "      <td>0.0</td>\n",
              "      <td>1.0</td>\n",
              "      <td>0.0</td>\n",
              "      <td>1.0</td>\n",
              "      <td>0.0</td>\n",
              "      <td>0.0</td>\n",
              "      <td>0.0</td>\n",
              "      <td>0.0</td>\n",
              "      <td>0.0</td>\n",
              "      <td>0.0</td>\n",
              "      <td>0.0</td>\n",
              "      <td>1.0</td>\n",
              "      <td>0.0</td>\n",
              "      <td>0.0</td>\n",
              "      <td>0.0</td>\n",
              "      <td>0.0</td>\n",
              "      <td>1</td>\n",
              "      <td>3</td>\n",
              "    </tr>\n",
              "    <tr>\n",
              "      <th>39997</th>\n",
              "      <td>416</td>\n",
              "      <td>3</td>\n",
              "      <td>159</td>\n",
              "      <td>4.20</td>\n",
              "      <td>0.0</td>\n",
              "      <td>0.0</td>\n",
              "      <td>0.0</td>\n",
              "      <td>0.0</td>\n",
              "      <td>0.0</td>\n",
              "      <td>0.0</td>\n",
              "      <td>0.0</td>\n",
              "      <td>0.0</td>\n",
              "      <td>1.0</td>\n",
              "      <td>1.0</td>\n",
              "      <td>0.0</td>\n",
              "      <td>0.0</td>\n",
              "      <td>0.0</td>\n",
              "      <td>0.0</td>\n",
              "      <td>0.0</td>\n",
              "      <td>0.0</td>\n",
              "      <td>1.0</td>\n",
              "      <td>0.0</td>\n",
              "      <td>0.0</td>\n",
              "      <td>0.0</td>\n",
              "      <td>0.0</td>\n",
              "      <td>0.0</td>\n",
              "      <td>0.0</td>\n",
              "      <td>1.0</td>\n",
              "      <td>0.0</td>\n",
              "      <td>0.0</td>\n",
              "      <td>0.0</td>\n",
              "      <td>0.0</td>\n",
              "      <td>1</td>\n",
              "      <td>12</td>\n",
              "    </tr>\n",
              "    <tr>\n",
              "      <th>39998</th>\n",
              "      <td>336</td>\n",
              "      <td>645</td>\n",
              "      <td>2955</td>\n",
              "      <td>3.62</td>\n",
              "      <td>0.0</td>\n",
              "      <td>0.0</td>\n",
              "      <td>0.0</td>\n",
              "      <td>0.0</td>\n",
              "      <td>0.0</td>\n",
              "      <td>0.0</td>\n",
              "      <td>1.0</td>\n",
              "      <td>1.0</td>\n",
              "      <td>1.0</td>\n",
              "      <td>1.0</td>\n",
              "      <td>0.0</td>\n",
              "      <td>0.0</td>\n",
              "      <td>0.0</td>\n",
              "      <td>0.0</td>\n",
              "      <td>0.0</td>\n",
              "      <td>0.0</td>\n",
              "      <td>0.0</td>\n",
              "      <td>0.0</td>\n",
              "      <td>0.0</td>\n",
              "      <td>0.0</td>\n",
              "      <td>1.0</td>\n",
              "      <td>0.0</td>\n",
              "      <td>0.0</td>\n",
              "      <td>1.0</td>\n",
              "      <td>0.0</td>\n",
              "      <td>0.0</td>\n",
              "      <td>0.0</td>\n",
              "      <td>0.0</td>\n",
              "      <td>1</td>\n",
              "      <td>5</td>\n",
              "    </tr>\n",
              "    <tr>\n",
              "      <th>39999</th>\n",
              "      <td>224</td>\n",
              "      <td>218</td>\n",
              "      <td>1759</td>\n",
              "      <td>4.13</td>\n",
              "      <td>0.0</td>\n",
              "      <td>0.0</td>\n",
              "      <td>0.0</td>\n",
              "      <td>0.0</td>\n",
              "      <td>0.0</td>\n",
              "      <td>0.0</td>\n",
              "      <td>0.0</td>\n",
              "      <td>0.0</td>\n",
              "      <td>0.0</td>\n",
              "      <td>0.0</td>\n",
              "      <td>0.0</td>\n",
              "      <td>0.0</td>\n",
              "      <td>0.0</td>\n",
              "      <td>1.0</td>\n",
              "      <td>0.0</td>\n",
              "      <td>0.0</td>\n",
              "      <td>0.0</td>\n",
              "      <td>0.0</td>\n",
              "      <td>0.0</td>\n",
              "      <td>0.0</td>\n",
              "      <td>0.0</td>\n",
              "      <td>0.0</td>\n",
              "      <td>0.0</td>\n",
              "      <td>0.0</td>\n",
              "      <td>1.0</td>\n",
              "      <td>0.0</td>\n",
              "      <td>0.0</td>\n",
              "      <td>0.0</td>\n",
              "      <td>2</td>\n",
              "      <td>12</td>\n",
              "    </tr>\n",
              "  </tbody>\n",
              "</table>\n",
              "<p>40000 rows × 34 columns</p>\n",
              "</div>"
            ],
            "text/plain": [
              "       book_pages  book_review_count  ...  authors_number  title_len\n",
              "id                                    ...                           \n",
              "0             768              40197  ...               2          1\n",
              "1             180                 27  ...               1          3\n",
              "2             470                331  ...               1          5\n",
              "3             106                 28  ...               1          6\n",
              "4             110                250  ...               3          2\n",
              "...           ...                ...  ...             ...        ...\n",
              "39995         491              24661  ...               1          3\n",
              "39996          48                130  ...               1          3\n",
              "39997         416                  3  ...               1         12\n",
              "39998         336                645  ...               1          5\n",
              "39999         224                218  ...               2         12\n",
              "\n",
              "[40000 rows x 34 columns]"
            ]
          },
          "metadata": {
            "tags": []
          },
          "execution_count": 16
        }
      ]
    },
    {
      "cell_type": "code",
      "metadata": {
        "id": "5rKXMF0XUGWF"
      },
      "source": [
        "import xgboost as xg \r\n",
        "from sklearn.model_selection import train_test_split \r\n",
        "from sklearn.metrics import mean_squared_error as MSE "
      ],
      "execution_count": 17,
      "outputs": []
    },
    {
      "cell_type": "code",
      "metadata": {
        "id": "H3duyvDXUKOJ"
      },
      "source": [
        "y = train_processed['book_rating']\r\n",
        "X = train_processed.drop(columns = ['book_rating'])\r\n",
        "X_train, X_val, y_train, y_val = train_test_split(X, y, test_size=0.1, random_state=42) "
      ],
      "execution_count": 19,
      "outputs": []
    },
    {
      "cell_type": "code",
      "metadata": {
        "colab": {
          "base_uri": "https://localhost:8080/"
        },
        "id": "htv5tobbUmWj",
        "outputId": "7ae8316b-fd86-41c5-d7a1-c11089a9949c"
      },
      "source": [
        "xgb_r = xg.XGBRegressor(objective='reg:squarederror', \r\n",
        "                  n_estimators=1024, seed=42) \r\n",
        "xgb_r.fit(X_train, y_train)"
      ],
      "execution_count": 45,
      "outputs": [
        {
          "output_type": "execute_result",
          "data": {
            "text/plain": [
              "XGBRegressor(base_score=0.5, booster='gbtree', colsample_bylevel=1,\n",
              "             colsample_bynode=1, colsample_bytree=1, gamma=0,\n",
              "             importance_type='gain', learning_rate=0.1, max_delta_step=0,\n",
              "             max_depth=3, min_child_weight=1, missing=None, n_estimators=1024,\n",
              "             n_jobs=1, nthread=None, objective='reg:squarederror',\n",
              "             random_state=0, reg_alpha=0, reg_lambda=1, scale_pos_weight=1,\n",
              "             seed=42, silent=None, subsample=1, verbosity=1)"
            ]
          },
          "metadata": {
            "tags": []
          },
          "execution_count": 45
        }
      ]
    },
    {
      "cell_type": "code",
      "metadata": {
        "colab": {
          "base_uri": "https://localhost:8080/"
        },
        "id": "TuWr2VT1U4EH",
        "outputId": "c6b1d038-57f6-48f4-e33f-106c2f6c5315"
      },
      "source": [
        "np.sqrt(MSE(y_val, xgb_r.predict(X_val)))"
      ],
      "execution_count": 46,
      "outputs": [
        {
          "output_type": "execute_result",
          "data": {
            "text/plain": [
              "0.2950209659286718"
            ]
          },
          "metadata": {
            "tags": []
          },
          "execution_count": 46
        }
      ]
    },
    {
      "cell_type": "code",
      "metadata": {
        "id": "JBUsqUQmYT7_"
      },
      "source": [
        "from sklearn.model_selection import GridSearchCV"
      ],
      "execution_count": 51,
      "outputs": []
    },
    {
      "cell_type": "code",
      "metadata": {
        "colab": {
          "base_uri": "https://localhost:8080/"
        },
        "id": "SKmVF7kAYdBe",
        "outputId": "19c7046a-5ae0-4ca3-9476-d87ec56abe0c"
      },
      "source": [
        "clf = GridSearchCV(xg.XGBRegressor(objective='reg:squarederror'),\r\n",
        "                   {'max_depth': [3, 4, 5], 'n_estimators': [128, 256, 512, 1024]})\r\n",
        "clf.fit(X_train, y_train)"
      ],
      "execution_count": 53,
      "outputs": [
        {
          "output_type": "execute_result",
          "data": {
            "text/plain": [
              "GridSearchCV(cv=None, error_score=nan,\n",
              "             estimator=XGBRegressor(base_score=0.5, booster='gbtree',\n",
              "                                    colsample_bylevel=1, colsample_bynode=1,\n",
              "                                    colsample_bytree=1, gamma=0,\n",
              "                                    importance_type='gain', learning_rate=0.1,\n",
              "                                    max_delta_step=0, max_depth=3,\n",
              "                                    min_child_weight=1, missing=None,\n",
              "                                    n_estimators=100, n_jobs=1, nthread=None,\n",
              "                                    objective='reg:squarederror',\n",
              "                                    random_state=0, reg_alpha=0, reg_lambda=1,\n",
              "                                    scale_pos_weight=1, seed=None, silent=None,\n",
              "                                    subsample=1, verbosity=1),\n",
              "             iid='deprecated', n_jobs=None,\n",
              "             param_grid={'max_depth': [3, 4, 5],\n",
              "                         'n_estimators': [128, 256, 512, 1024]},\n",
              "             pre_dispatch='2*n_jobs', refit=True, return_train_score=False,\n",
              "             scoring=None, verbose=0)"
            ]
          },
          "metadata": {
            "tags": []
          },
          "execution_count": 53
        }
      ]
    },
    {
      "cell_type": "code",
      "metadata": {
        "colab": {
          "base_uri": "https://localhost:8080/"
        },
        "id": "Q8s5vOHLdXNc",
        "outputId": "85351bee-2057-4b91-d03e-7a97ba0a68c2"
      },
      "source": [
        "clf.best_estimator_"
      ],
      "execution_count": 55,
      "outputs": [
        {
          "output_type": "execute_result",
          "data": {
            "text/plain": [
              "XGBRegressor(base_score=0.5, booster='gbtree', colsample_bylevel=1,\n",
              "             colsample_bynode=1, colsample_bytree=1, gamma=0,\n",
              "             importance_type='gain', learning_rate=0.1, max_delta_step=0,\n",
              "             max_depth=5, min_child_weight=1, missing=None, n_estimators=256,\n",
              "             n_jobs=1, nthread=None, objective='reg:squarederror',\n",
              "             random_state=0, reg_alpha=0, reg_lambda=1, scale_pos_weight=1,\n",
              "             seed=None, silent=None, subsample=1, verbosity=1)"
            ]
          },
          "metadata": {
            "tags": []
          },
          "execution_count": 55
        }
      ]
    },
    {
      "cell_type": "code",
      "metadata": {
        "colab": {
          "base_uri": "https://localhost:8080/"
        },
        "id": "JyLNcR1idekS",
        "outputId": "07d963dd-331c-4a38-9bff-7ea81cbbc5b8"
      },
      "source": [
        "np.sqrt(MSE(y_val, clf.predict(X_val)))"
      ],
      "execution_count": 56,
      "outputs": [
        {
          "output_type": "execute_result",
          "data": {
            "text/plain": [
              "0.2944671309217966"
            ]
          },
          "metadata": {
            "tags": []
          },
          "execution_count": 56
        }
      ]
    },
    {
      "cell_type": "code",
      "metadata": {
        "id": "xcKk7yl6XkQB"
      },
      "source": [
        "sub = pd.read_csv('./submission.csv', index_col = 'id')\r\n",
        "sub['book_rating'] = clf.predict(test_processed)\r\n",
        "sub.to_csv('./my_sub_xgb_2.csv')"
      ],
      "execution_count": 65,
      "outputs": []
    },
    {
      "cell_type": "code",
      "metadata": {
        "id": "QC9TTqYAXhA-"
      },
      "source": [
        "from joblib import dump"
      ],
      "execution_count": 66,
      "outputs": []
    },
    {
      "cell_type": "code",
      "metadata": {
        "colab": {
          "base_uri": "https://localhost:8080/"
        },
        "id": "RKOzxEPqmtjx",
        "outputId": "c111167f-474c-4559-e0ca-134c29d47222"
      },
      "source": [
        "dump(clf, 'our_best_model.joblib') "
      ],
      "execution_count": 67,
      "outputs": [
        {
          "output_type": "execute_result",
          "data": {
            "text/plain": [
              "['our_best_model.joblib']"
            ]
          },
          "metadata": {
            "tags": []
          },
          "execution_count": 67
        }
      ]
    },
    {
      "cell_type": "code",
      "metadata": {
        "colab": {
          "base_uri": "https://localhost:8080/"
        },
        "id": "OMPPwutGuXSn",
        "outputId": "d95a520a-c84b-4c5f-e8a7-fe5bef0fb592"
      },
      "source": [
        "clf3 = xg.XGBRegressor(objective='reg:linear', \r\n",
        "                  n_estimators=220, seed=42) \r\n",
        "clf3.fit(X_train, y_train)"
      ],
      "execution_count": 68,
      "outputs": [
        {
          "output_type": "stream",
          "text": [
            "[23:15:25] WARNING: /workspace/src/objective/regression_obj.cu:152: reg:linear is now deprecated in favor of reg:squarederror.\n"
          ],
          "name": "stdout"
        },
        {
          "output_type": "execute_result",
          "data": {
            "text/plain": [
              "XGBRegressor(base_score=0.5, booster='gbtree', colsample_bylevel=1,\n",
              "             colsample_bynode=1, colsample_bytree=1, gamma=0,\n",
              "             importance_type='gain', learning_rate=0.1, max_delta_step=0,\n",
              "             max_depth=3, min_child_weight=1, missing=None, n_estimators=220,\n",
              "             n_jobs=1, nthread=None, objective='reg:linear', random_state=0,\n",
              "             reg_alpha=0, reg_lambda=1, scale_pos_weight=1, seed=42,\n",
              "             silent=None, subsample=1, verbosity=1)"
            ]
          },
          "metadata": {
            "tags": []
          },
          "execution_count": 68
        }
      ]
    },
    {
      "cell_type": "code",
      "metadata": {
        "colab": {
          "base_uri": "https://localhost:8080/"
        },
        "id": "bpiZpgDMufKp",
        "outputId": "23f6f51e-be66-466f-d9f7-579b4384aa0e"
      },
      "source": [
        "np.sqrt(MSE(y_val, clf3.predict(X_val)))"
      ],
      "execution_count": 69,
      "outputs": [
        {
          "output_type": "execute_result",
          "data": {
            "text/plain": [
              "0.29662018640156573"
            ]
          },
          "metadata": {
            "tags": []
          },
          "execution_count": 69
        }
      ]
    },
    {
      "cell_type": "code",
      "metadata": {
        "id": "HPvgiBsfuktl"
      },
      "source": [
        "clf.best_estimator_.save_model('did_our_best.model')"
      ],
      "execution_count": 72,
      "outputs": []
    },
    {
      "cell_type": "code",
      "metadata": {
        "colab": {
          "base_uri": "https://localhost:8080/"
        },
        "id": "uLrtnuPPwfbK",
        "outputId": "fe021a5c-2244-4f78-9ce1-1426cc6f31e4"
      },
      "source": [
        "clf.best_estimator_"
      ],
      "execution_count": 74,
      "outputs": [
        {
          "output_type": "execute_result",
          "data": {
            "text/plain": [
              "XGBRegressor(base_score=0.5, booster='gbtree', colsample_bylevel=1,\n",
              "             colsample_bynode=1, colsample_bytree=1, gamma=0,\n",
              "             importance_type='gain', learning_rate=0.1, max_delta_step=0,\n",
              "             max_depth=5, min_child_weight=1, missing=None, n_estimators=256,\n",
              "             n_jobs=1, nthread=None, objective='reg:squarederror',\n",
              "             random_state=0, reg_alpha=0, reg_lambda=1, scale_pos_weight=1,\n",
              "             seed=None, silent=None, subsample=1, verbosity=1)"
            ]
          },
          "metadata": {
            "tags": []
          },
          "execution_count": 74
        }
      ]
    },
    {
      "cell_type": "code",
      "metadata": {
        "id": "-YfxMKYpzDwq"
      },
      "source": [
        "clf_load = xg.XGBRegressor()\r\n",
        "clf_load.load_model('./did_our_best.model')"
      ],
      "execution_count": 75,
      "outputs": []
    },
    {
      "cell_type": "code",
      "metadata": {
        "colab": {
          "base_uri": "https://localhost:8080/"
        },
        "id": "4r324fR3zyzl",
        "outputId": "cc9fbd7d-615c-4890-f26d-da44505d67a5"
      },
      "source": [
        "clf_load.predict(X_val)"
      ],
      "execution_count": 77,
      "outputs": [
        {
          "output_type": "execute_result",
          "data": {
            "text/plain": [
              "array([3.8501601, 4.0649414, 3.993217 , ..., 4.06656  , 3.7473824,\n",
              "       4.1552896], dtype=float32)"
            ]
          },
          "metadata": {
            "tags": []
          },
          "execution_count": 77
        }
      ]
    },
    {
      "cell_type": "code",
      "metadata": {
        "colab": {
          "base_uri": "https://localhost:8080/"
        },
        "id": "20qZwowLzz0Z",
        "outputId": "3c79e04e-472c-4f6c-8c5a-7a1d16a2349c"
      },
      "source": [
        "clf.predict(X_val)"
      ],
      "execution_count": 78,
      "outputs": [
        {
          "output_type": "execute_result",
          "data": {
            "text/plain": [
              "array([3.8501601, 4.0649414, 3.993217 , ..., 4.06656  , 3.7473824,\n",
              "       4.1552896], dtype=float32)"
            ]
          },
          "metadata": {
            "tags": []
          },
          "execution_count": 78
        }
      ]
    },
    {
      "cell_type": "code",
      "metadata": {
        "colab": {
          "base_uri": "https://localhost:8080/"
        },
        "id": "oym1MQUI0ohV",
        "outputId": "56260efb-e88d-4942-d8a0-234bf9872243"
      },
      "source": [
        "np.sqrt(MSE(y_val, clf.predict(X_val)))"
      ],
      "execution_count": 79,
      "outputs": [
        {
          "output_type": "execute_result",
          "data": {
            "text/plain": [
              "0.2944671309217966"
            ]
          },
          "metadata": {
            "tags": []
          },
          "execution_count": 79
        }
      ]
    }
  ]
}