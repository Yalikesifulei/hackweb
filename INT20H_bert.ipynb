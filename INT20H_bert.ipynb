{
  "nbformat": 4,
  "nbformat_minor": 0,
  "metadata": {
    "colab": {
      "name": "INT20H.ipynb",
      "provenance": []
    },
    "kernelspec": {
      "name": "python3",
      "display_name": "Python 3"
    },
    "accelerator": "GPU"
  },
  "cells": [
    {
      "cell_type": "code",
      "metadata": {
        "colab": {
          "base_uri": "https://localhost:8080/"
        },
        "id": "idCUNwWOOyXD",
        "outputId": "3d2c2182-8ec7-49f3-b613-8d96d4e982ed"
      },
      "source": [
        "!pip install -q kaggle\r\n",
        "!cp kaggle.json ~/.kaggle/\r\n",
        "!chmod 600 ~/.kaggle/kaggle.json\r\n",
        "!kaggle competitions download -c predictingbookratingsint20h\r\n",
        "!unzip train.csv.zip\r\n",
        "!unzip test.csv.zip"
      ],
      "execution_count": 2,
      "outputs": [
        {
          "output_type": "stream",
          "text": [
            "Warning: Looks like you're using an outdated API Version, please consider updating (server 1.5.10 / client 1.5.4)\n",
            "Downloading submission.csv to /content\n",
            "  0% 0.00/25.5k [00:00<?, ?B/s]\n",
            "100% 25.5k/25.5k [00:00<00:00, 9.88MB/s]\n",
            "Downloading test.csv.zip to /content\n",
            "  0% 0.00/1.65M [00:00<?, ?B/s]\n",
            "100% 1.65M/1.65M [00:00<00:00, 54.0MB/s]\n",
            "Downloading train.csv.zip to /content\n",
            " 29% 5.00M/17.5M [00:00<00:00, 44.8MB/s]\n",
            "100% 17.5M/17.5M [00:00<00:00, 85.5MB/s]\n",
            "Archive:  train.csv.zip\n",
            "  inflating: train.csv               \n",
            "Archive:  test.csv.zip\n",
            "  inflating: test.csv                \n"
          ],
          "name": "stdout"
        }
      ]
    },
    {
      "cell_type": "code",
      "metadata": {
        "id": "CFgQB_8YRbWK"
      },
      "source": [
        "import numpy as np\r\n",
        "import pandas as pd\r\n",
        "import matplotlib.pyplot as plt"
      ],
      "execution_count": 3,
      "outputs": []
    },
    {
      "cell_type": "code",
      "metadata": {
        "id": "N3HayV53Rf4d"
      },
      "source": [
        "train = pd.read_csv('./train.csv', index_col='id')\r\n",
        "test = pd.read_csv('./test.csv', index_col='id')"
      ],
      "execution_count": 52,
      "outputs": []
    },
    {
      "cell_type": "code",
      "metadata": {
        "colab": {
          "base_uri": "https://localhost:8080/",
          "height": 437
        },
        "id": "LYmcUMLuRoNG",
        "outputId": "c242ab61-a927-4316-b73b-ddd07fe9330e"
      },
      "source": [
        "train.head(3)"
      ],
      "execution_count": 5,
      "outputs": [
        {
          "output_type": "execute_result",
          "data": {
            "text/html": [
              "<div>\n",
              "<style scoped>\n",
              "    .dataframe tbody tr th:only-of-type {\n",
              "        vertical-align: middle;\n",
              "    }\n",
              "\n",
              "    .dataframe tbody tr th {\n",
              "        vertical-align: top;\n",
              "    }\n",
              "\n",
              "    .dataframe thead th {\n",
              "        text-align: right;\n",
              "    }\n",
              "</style>\n",
              "<table border=\"1\" class=\"dataframe\">\n",
              "  <thead>\n",
              "    <tr style=\"text-align: right;\">\n",
              "      <th></th>\n",
              "      <th>book_title</th>\n",
              "      <th>book_image_url</th>\n",
              "      <th>book_desc</th>\n",
              "      <th>book_genre</th>\n",
              "      <th>book_authors</th>\n",
              "      <th>book_format</th>\n",
              "      <th>book_pages</th>\n",
              "      <th>book_review_count</th>\n",
              "      <th>book_rating_count</th>\n",
              "      <th>book_rating</th>\n",
              "    </tr>\n",
              "    <tr>\n",
              "      <th>id</th>\n",
              "      <th></th>\n",
              "      <th></th>\n",
              "      <th></th>\n",
              "      <th></th>\n",
              "      <th></th>\n",
              "      <th></th>\n",
              "      <th></th>\n",
              "      <th></th>\n",
              "      <th></th>\n",
              "      <th></th>\n",
              "    </tr>\n",
              "  </thead>\n",
              "  <tbody>\n",
              "    <tr>\n",
              "      <th>0</th>\n",
              "      <td>Forastera</td>\n",
              "      <td>https://images.gr-assets.com/books/1500683049l...</td>\n",
              "      <td>Recién acabada la Segunda Guerra Mundial, una ...</td>\n",
              "      <td>Historical|Historical Fiction|Romance|Fantasy|...</td>\n",
              "      <td>Diana Gabaldon|Carmen Bordeu</td>\n",
              "      <td>Kindle Edition</td>\n",
              "      <td>768 pages</td>\n",
              "      <td>40197</td>\n",
              "      <td>668892</td>\n",
              "      <td>4.22</td>\n",
              "    </tr>\n",
              "    <tr>\n",
              "      <th>1</th>\n",
              "      <td>Writing about Magic</td>\n",
              "      <td>https://images.gr-assets.com/books/1445900480l...</td>\n",
              "      <td>Do you write fantasy fiction? This book is a r...</td>\n",
              "      <td>Language|Writing|Nonfiction</td>\n",
              "      <td>Rayne Hall</td>\n",
              "      <td>Paperback</td>\n",
              "      <td>180 pages</td>\n",
              "      <td>27</td>\n",
              "      <td>126</td>\n",
              "      <td>3.95</td>\n",
              "    </tr>\n",
              "    <tr>\n",
              "      <th>2</th>\n",
              "      <td>The Stress of Her Regard</td>\n",
              "      <td>https://images.gr-assets.com/books/1503059955l...</td>\n",
              "      <td>When Michael Crawford discovers his bride brut...</td>\n",
              "      <td>Fantasy|Horror|Paranormal|Vampires|Historical|...</td>\n",
              "      <td>Tim Powers</td>\n",
              "      <td>Paperback</td>\n",
              "      <td>470 pages</td>\n",
              "      <td>331</td>\n",
              "      <td>3626</td>\n",
              "      <td>3.79</td>\n",
              "    </tr>\n",
              "  </tbody>\n",
              "</table>\n",
              "</div>"
            ],
            "text/plain": [
              "                  book_title  ... book_rating\n",
              "id                            ...            \n",
              "0                  Forastera  ...        4.22\n",
              "1        Writing about Magic  ...        3.95\n",
              "2   The Stress of Her Regard  ...        3.79\n",
              "\n",
              "[3 rows x 10 columns]"
            ]
          },
          "metadata": {
            "tags": []
          },
          "execution_count": 5
        }
      ]
    },
    {
      "cell_type": "code",
      "metadata": {
        "id": "s5ap32qDU2Yx"
      },
      "source": [
        "train['book_genre'] = train['book_genre'].fillna('nan')\r\n",
        "test['book_genre'] = test['book_genre'].fillna('nan')"
      ],
      "execution_count": 53,
      "outputs": []
    },
    {
      "cell_type": "code",
      "metadata": {
        "id": "OYPQ8EveRpFa"
      },
      "source": [
        "def get_genres(df):\r\n",
        "  genres = list(df['book_genre'])\r\n",
        "  genres = list(map(lambda x: x.split('|'), genres))\r\n",
        "  genres = [item for sublist in genres for item in sublist]\r\n",
        "  genres = np.array(genres)\r\n",
        "  genres_unique, unique_counts = np.unique(genres, return_counts=True)\r\n",
        "  return genres, dict(zip(genres_unique, unique_counts))"
      ],
      "execution_count": 7,
      "outputs": []
    },
    {
      "cell_type": "code",
      "metadata": {
        "id": "0pCMLemWT3DY"
      },
      "source": [
        "train_genres, train_genres_unique = get_genres(train)"
      ],
      "execution_count": 54,
      "outputs": []
    },
    {
      "cell_type": "code",
      "metadata": {
        "colab": {
          "base_uri": "https://localhost:8080/",
          "height": 348
        },
        "id": "avYTrr5_VBJn",
        "outputId": "0762df32-b8a8-4ab9-d5e5-c6923b2633b3"
      },
      "source": [
        "plt.hist(train_genres_unique.values())"
      ],
      "execution_count": 9,
      "outputs": [
        {
          "output_type": "execute_result",
          "data": {
            "text/plain": [
              "(array([831.,  10.,   6.,   3.,   2.,   0.,   0.,   1.,   1.,   1.]),\n",
              " array([1.00000e+00, 1.85040e+03, 3.69980e+03, 5.54920e+03, 7.39860e+03,\n",
              "        9.24800e+03, 1.10974e+04, 1.29468e+04, 1.47962e+04, 1.66456e+04,\n",
              "        1.84950e+04]),\n",
              " <a list of 10 Patch objects>)"
            ]
          },
          "metadata": {
            "tags": []
          },
          "execution_count": 9
        },
        {
          "output_type": "display_data",
          "data": {
            "image/png": "[encoded data removed]",
            "text/plain": [
              "<Figure size 432x288 with 1 Axes>"
            ]
          },
          "metadata": {
            "tags": [],
            "needs_background": "light"
          }
        }
      ]
    },
    {
      "cell_type": "code",
      "metadata": {
        "id": "elgnXnTHdE9E"
      },
      "source": [
        "def process(init_df, genres_unique, threshold = 2000):\r\n",
        "  df = init_df.copy()\r\n",
        "  top_genres = [g for g in genres_unique.keys() if genres_unique[g] > threshold] + ['Other']\r\n",
        "  for genre in top_genres:\r\n",
        "        df[f'genre_({genre})'] = np.zeros((len(df)))\r\n",
        "  for i in range(len(df)):\r\n",
        "    genres_list = df.iloc[i]['book_genre'].split('|')\r\n",
        "    for genre in genres_list:\r\n",
        "      if genre in top_genres:\r\n",
        "        df.at[i, f'genre_({genre})'] = 1\r\n",
        "  df['book_pages'] = df['book_pages'].astype(str).apply(lambda x: int(x.split()[0]) if x.split()[0] != 'nan' else 0)\r\n",
        "  df = df.drop(columns=['book_genre', 'book_image_url'])\r\n",
        "  return df"
      ],
      "execution_count": 13,
      "outputs": []
    },
    {
      "cell_type": "code",
      "metadata": {
        "id": "CUSjrcx7od8j"
      },
      "source": [
        "threshold = 2000\r\n",
        "train_processed = train.copy() \r\n",
        "train_processed = process(train_processed, train_genres_unique, threshold)\r\n",
        "\r\n",
        "test_processed = test.copy() \r\n",
        "test_processed = process(test_processed, train_genres_unique, threshold)"
      ],
      "execution_count": 55,
      "outputs": []
    },
    {
      "cell_type": "code",
      "metadata": {
        "id": "hCJRpAUP-mUW"
      },
      "source": [
        "train_processed['book_format'] = train_processed['book_format'].fillna('nan')\r\n",
        "test_processed['book_format'] = test_processed['book_format'].fillna('nan')"
      ],
      "execution_count": 56,
      "outputs": []
    },
    {
      "cell_type": "code",
      "metadata": {
        "id": "QVSbd53O3l77"
      },
      "source": [
        "formats = ['soft_cover', 'hard_cover', 'ebook', 'audio', 'other']\r\n",
        "def proc_formats(init_df, formats):\r\n",
        "  df = init_df.copy()\r\n",
        "  for format in formats:\r\n",
        "        df[f'format_({format})'] = np.zeros((len(df)))\r\n",
        "  for i in range(len(df)):\r\n",
        "    formats_list = df.iloc[i]['book_format']\r\n",
        "    if any([format in formats_list.lower() for format in ['paper', 'soft']]):\r\n",
        "      df.at[i, 'format_(soft_cover)'] = 1\r\n",
        "    elif any([format in formats_list.lower() for format in ['hard']]):\r\n",
        "      df.at[i, 'format_(hard_cover)'] = 1\r\n",
        "    elif any([format in formats_list.lower() for format in ['ebook', 'kindle', 'nook', 'digital']]):\r\n",
        "      df.at[i, 'format_(ebook)'] = 1\r\n",
        "    elif any([format in formats_list.lower() for format in ['audio', 'cd']]):\r\n",
        "      df.at[i, 'format_(audio)'] = 1\r\n",
        "    else:\r\n",
        "      df.at[i, 'format_(other)'] = 1\r\n",
        "  df = df.drop(columns=['book_format'])\r\n",
        "  return df"
      ],
      "execution_count": 16,
      "outputs": []
    },
    {
      "cell_type": "code",
      "metadata": {
        "id": "tjOC2ht13oUZ"
      },
      "source": [
        "train_processed = proc_formats(train_processed, formats)\r\n",
        "test_processed = proc_formats(test_processed, formats)"
      ],
      "execution_count": 57,
      "outputs": []
    },
    {
      "cell_type": "code",
      "metadata": {
        "id": "gCfYDW-_3rsS"
      },
      "source": [
        "train_processed['authors_number'] = train_processed['book_authors'].apply(lambda x: len(x.split('|')))\r\n",
        "train_processed = train_processed.drop(columns=['book_authors'])\r\n",
        "test_processed['authors_number'] = test_processed['book_authors'].apply(lambda x: len(x.split('|')))\r\n",
        "test_processed = test_processed.drop(columns=['book_authors'])"
      ],
      "execution_count": 58,
      "outputs": []
    },
    {
      "cell_type": "code",
      "metadata": {
        "id": "LB5oVWEZ3u8W"
      },
      "source": [
        "train_processed['title_len'] = train_processed['book_title'].apply(lambda x: len(x.split(' ')))\r\n",
        "train_processed = train_processed.drop(columns=['book_title'])\r\n",
        "test_processed['title_len'] = test_processed['book_title'].apply(lambda x: len(x.split(' ')))\r\n",
        "test_processed = test_processed.drop(columns=['book_title'])"
      ],
      "execution_count": 59,
      "outputs": []
    },
    {
      "cell_type": "code",
      "metadata": {
        "colab": {
          "base_uri": "https://localhost:8080/"
        },
        "id": "Zao_SiVA0rq8",
        "outputId": "e75dbaff-e70a-4593-843d-fb2d94251b43"
      },
      "source": [
        "!pip install -q ktrain"
      ],
      "execution_count": 20,
      "outputs": [
        {
          "output_type": "stream",
          "text": [
            "\u001b[K     |████████████████████████████████| 25.3MB 1.3MB/s \n",
            "\u001b[K     |████████████████████████████████| 6.8MB 53.8MB/s \n",
            "\u001b[K     |████████████████████████████████| 983kB 46.0MB/s \n",
            "\u001b[K     |████████████████████████████████| 266kB 60.1MB/s \n",
            "\u001b[K     |████████████████████████████████| 1.3MB 46.8MB/s \n",
            "\u001b[K     |████████████████████████████████| 1.2MB 18.8MB/s \n",
            "\u001b[K     |████████████████████████████████| 471kB 57.4MB/s \n",
            "\u001b[K     |████████████████████████████████| 2.9MB 45.5MB/s \n",
            "\u001b[K     |████████████████████████████████| 890kB 43.6MB/s \n",
            "\u001b[?25h  Building wheel for ktrain (setup.py) ... \u001b[?25l\u001b[?25hdone\n",
            "  Building wheel for langdetect (setup.py) ... \u001b[?25l\u001b[?25hdone\n",
            "  Building wheel for syntok (setup.py) ... \u001b[?25l\u001b[?25hdone\n",
            "  Building wheel for seqeval (setup.py) ... \u001b[?25l\u001b[?25hdone\n",
            "  Building wheel for keras-bert (setup.py) ... \u001b[?25l\u001b[?25hdone\n",
            "  Building wheel for sacremoses (setup.py) ... \u001b[?25l\u001b[?25hdone\n",
            "  Building wheel for keras-transformer (setup.py) ... \u001b[?25l\u001b[?25hdone\n",
            "  Building wheel for keras-pos-embd (setup.py) ... \u001b[?25l\u001b[?25hdone\n",
            "  Building wheel for keras-multi-head (setup.py) ... \u001b[?25l\u001b[?25hdone\n",
            "  Building wheel for keras-layer-normalization (setup.py) ... \u001b[?25l\u001b[?25hdone\n",
            "  Building wheel for keras-position-wise-feed-forward (setup.py) ... \u001b[?25l\u001b[?25hdone\n",
            "  Building wheel for keras-embed-sim (setup.py) ... \u001b[?25l\u001b[?25hdone\n",
            "  Building wheel for keras-self-attention (setup.py) ... \u001b[?25l\u001b[?25hdone\n",
            "\u001b[31mERROR: transformers 3.5.1 has requirement sentencepiece==0.1.91, but you'll have sentencepiece 0.1.95 which is incompatible.\u001b[0m\n"
          ],
          "name": "stdout"
        }
      ]
    },
    {
      "cell_type": "code",
      "metadata": {
        "id": "TapH3sLc3_Q5"
      },
      "source": [
        "import os\r\n",
        "os.environ[\"CUDA_DEVICE_ORDER\"]=\"PCI_BUS_ID\";\r\n",
        "os.environ[\"CUDA_VISIBLE_DEVICES\"]=\"0\";"
      ],
      "execution_count": 21,
      "outputs": []
    },
    {
      "cell_type": "code",
      "metadata": {
        "id": "wGJY2TZV4CC_"
      },
      "source": [
        "import ktrain\r\n",
        "from ktrain import text, tabular"
      ],
      "execution_count": 22,
      "outputs": []
    },
    {
      "cell_type": "code",
      "metadata": {
        "colab": {
          "base_uri": "https://localhost:8080/",
          "height": 320
        },
        "id": "7BQnQCx94J4W",
        "outputId": "6ae26d6f-121f-4e97-adec-3774a889b2c6"
      },
      "source": [
        "trn_text, val_text, preproc_text = text.texts_from_array(x_train=train_processed['book_desc'].to_numpy(), \r\n",
        "                                                         y_train=train_processed['book_rating'].to_numpy(),\r\n",
        "                                          preprocess_mode='bert')"
      ],
      "execution_count": 62,
      "outputs": [
        {
          "output_type": "stream",
          "text": [
            "downloading pretrained BERT model (uncased_L-12_H-768_A-12.zip)...\n",
            "[██████████████████████████████████████████████████]\n",
            "extracting pretrained BERT model...\n",
            "done.\n",
            "\n",
            "cleanup downloaded zip...\n",
            "done.\n",
            "\n",
            "preprocessing train...\n",
            "language: en\n"
          ],
          "name": "stdout"
        },
        {
          "output_type": "display_data",
          "data": {
            "text/html": [
              "done."
            ],
            "text/plain": [
              "<IPython.core.display.HTML object>"
            ]
          },
          "metadata": {
            "tags": []
          }
        },
        {
          "output_type": "stream",
          "text": [
            "preprocessing test...\n",
            "language: en\n"
          ],
          "name": "stdout"
        },
        {
          "output_type": "stream",
          "text": [
            "/usr/local/lib/python3.6/dist-packages/ktrain/utils.py:581: UserWarning: Task is being treated as REGRESSION because either class_names argument was not supplied or is_regression=True. If this is incorrect, change accordingly.\n",
            "  'If this is incorrect, change accordingly.')\n"
          ],
          "name": "stderr"
        },
        {
          "output_type": "display_data",
          "data": {
            "text/html": [
              "done."
            ],
            "text/plain": [
              "<IPython.core.display.HTML object>"
            ]
          },
          "metadata": {
            "tags": []
          }
        },
        {
          "output_type": "stream",
          "text": [
            "task: text regression (supply class_names argument if this is supposed to be classification task)\n"
          ],
          "name": "stdout"
        }
      ]
    },
    {
      "cell_type": "code",
      "metadata": {
        "colab": {
          "base_uri": "https://localhost:8080/"
        },
        "id": "OowEkKAD42rB",
        "outputId": "ad4a680d-0dbd-489e-96a1-f4904c700569"
      },
      "source": [
        "model_text = text.text_regression_model('bert', train_data=trn_text, preproc=preproc_text)\r\n",
        "learner_text = ktrain.get_learner(model_text, train_data=trn_text, val_data=val_text, batch_size=12)"
      ],
      "execution_count": 64,
      "outputs": [
        {
          "output_type": "stream",
          "text": [
            "maxlen is 400\n",
            "done.\n"
          ],
          "name": "stdout"
        }
      ]
    },
    {
      "cell_type": "code",
      "metadata": {
        "colab": {
          "base_uri": "https://localhost:8080/"
        },
        "id": "1Cg_-6vD5ZXw",
        "outputId": "fbe51a72-17ae-415b-849a-68ce5e73aba0"
      },
      "source": [
        "learner_text.autofit(lr=1e-3, epochs=1)"
      ],
      "execution_count": 69,
      "outputs": [
        {
          "output_type": "stream",
          "text": [
            "\n",
            "\n",
            "begin training using triangular learning rate policy with max lr of 0.001...\n",
            "3000/3000 [==============================] - 4430s 1s/step - loss: 0.2622 - mean_absolute_error: 0.2945 - val_loss: 0.1529 - val_mean_absolute_error: 0.2656\n"
          ],
          "name": "stdout"
        },
        {
          "output_type": "execute_result",
          "data": {
            "text/plain": [
              "<tensorflow.python.keras.callbacks.History at 0x7fccc2cf1320>"
            ]
          },
          "metadata": {
            "tags": []
          },
          "execution_count": 69
        }
      ]
    },
    {
      "cell_type": "code",
      "metadata": {
        "id": "B6dj2uIH6DEV"
      },
      "source": [
        "predictor_text = ktrain.get_predictor(learner_text.model, preproc_text)"
      ],
      "execution_count": 70,
      "outputs": []
    },
    {
      "cell_type": "code",
      "metadata": {
        "id": "vFEzlNV357fd"
      },
      "source": [
        "train_processed['text_regr'] = predictor_text.predict(train_processed['book_desc'].to_numpy())\r\n",
        "train_processed = train_processed.drop(columns = ['book_desc'])\r\n",
        "\r\n",
        "test_processed['text_regr'] = predictor_text.predict(test_processed['book_desc'].to_numpy())\r\n",
        "test_processed = test_processed.drop(columns = ['book_desc'])"
      ],
      "execution_count": 72,
      "outputs": []
    },
    {
      "cell_type": "code",
      "metadata": {
        "colab": {
          "base_uri": "https://localhost:8080/"
        },
        "id": "z8e_z5T40qRB",
        "outputId": "95e25efc-dab0-4246-e81e-4d700fcdfb70"
      },
      "source": [
        "trn, val, preproc = tabular.tabular_from_df(train_processed, is_regression=True, \r\n",
        "                                             label_columns='book_rating')"
      ],
      "execution_count": 74,
      "outputs": [
        {
          "output_type": "stream",
          "text": [
            "processing train: 35959 rows x 35 columns\n",
            "processing test: 4041 rows x 35 columns\n"
          ],
          "name": "stdout"
        },
        {
          "output_type": "stream",
          "text": [
            "/usr/local/lib/python3.6/dist-packages/ktrain/utils.py:581: UserWarning: Task is being treated as REGRESSION because either class_names argument was not supplied or is_regression=True. If this is incorrect, change accordingly.\n",
            "  'If this is incorrect, change accordingly.')\n"
          ],
          "name": "stderr"
        }
      ]
    },
    {
      "cell_type": "code",
      "metadata": {
        "colab": {
          "base_uri": "https://localhost:8080/"
        },
        "id": "6ii9njF81DZy",
        "outputId": "535e37d9-4cd1-458f-9d97-eff25fd87552"
      },
      "source": [
        "model = tabular.tabular_regression_model('mlp', trn, metrics=['mae'])\r\n",
        "learner = ktrain.get_learner(model, train_data=trn, val_data=val, batch_size=128)"
      ],
      "execution_count": 75,
      "outputs": [
        {
          "output_type": "stream",
          "text": [
            "done.\n"
          ],
          "name": "stdout"
        }
      ]
    },
    {
      "cell_type": "code",
      "metadata": {
        "colab": {
          "base_uri": "https://localhost:8080/",
          "height": 800
        },
        "id": "QshnvM7Y1J-G",
        "outputId": "f82a240c-5241-43f2-e900-105c1f0cb99a"
      },
      "source": [
        "learner.lr_find(show_plot=True, max_epochs=16)"
      ],
      "execution_count": 76,
      "outputs": [
        {
          "output_type": "stream",
          "text": [
            "simulating training for different learning rates... this may take a few moments...\n",
            "Epoch 1/16\n",
            "280/280 [==============================] - 4s 14ms/step - loss: 17.6210 - mae: 4.1778\n",
            "Epoch 2/16\n",
            "280/280 [==============================] - 4s 14ms/step - loss: 16.8055 - mae: 4.0786\n",
            "Epoch 3/16\n",
            "280/280 [==============================] - 4s 14ms/step - loss: 14.3498 - mae: 3.7642\n",
            "Epoch 4/16\n",
            "280/280 [==============================] - 4s 14ms/step - loss: 8.4792 - mae: 2.8416\n",
            "Epoch 5/16\n",
            "280/280 [==============================] - 4s 14ms/step - loss: 1.6677 - mae: 1.0344\n",
            "Epoch 6/16\n",
            "280/280 [==============================] - 4s 14ms/step - loss: 0.4738 - mae: 0.4494\n",
            "Epoch 7/16\n",
            "280/280 [==============================] - 4s 14ms/step - loss: 0.2140 - mae: 0.3059\n",
            "Epoch 8/16\n",
            "280/280 [==============================] - 4s 14ms/step - loss: 0.1541 - mae: 0.2641\n",
            "Epoch 9/16\n",
            "280/280 [==============================] - 4s 14ms/step - loss: 0.1465 - mae: 0.2608\n",
            "Epoch 10/16\n",
            "280/280 [==============================] - 4s 14ms/step - loss: 0.1936 - mae: 0.2983\n",
            "Epoch 11/16\n",
            "280/280 [==============================] - 4s 14ms/step - loss: 0.2275 - mae: 0.3222\n",
            "Epoch 12/16\n",
            "280/280 [==============================] - 4s 14ms/step - loss: 0.3139 - mae: 0.3947\n",
            "Epoch 13/16\n",
            "280/280 [==============================] - 0s 2ms/step - loss: 1.5701 - mae: 0.9557\n",
            "\n",
            "\n",
            "done.\n",
            "Visually inspect loss plot and select learning rate associated with falling loss\n"
          ],
          "name": "stdout"
        },
        {
          "output_type": "display_data",
          "data": {
            "image/png": "[encoded data removed]",
            "text/plain": [
              "<Figure size 432x288 with 1 Axes>"
            ]
          },
          "metadata": {
            "tags": [],
            "needs_background": "light"
          }
        }
      ]
    },
    {
      "cell_type": "code",
      "metadata": {
        "colab": {
          "base_uri": "https://localhost:8080/"
        },
        "id": "EgdA3K8R1Obf",
        "outputId": "9b562ffe-f337-4913-bd3a-a4254eb345f6"
      },
      "source": [
        "learner.autofit(lr=5e-5)"
      ],
      "execution_count": 77,
      "outputs": [
        {
          "output_type": "stream",
          "text": [
            "early_stopping automatically enabled at patience=5\n",
            "reduce_on_plateau automatically enabled at patience=2\n",
            "\n",
            "\n",
            "begin training using triangular learning rate policy with max lr of 5e-05...\n",
            "Epoch 1/1024\n",
            "281/281 [==============================] - 6s 20ms/step - loss: 4.6231 - mean_absolute_error: 1.6104 - val_loss: 0.7598 - val_mean_absolute_error: 0.5425\n",
            "Epoch 2/1024\n",
            "281/281 [==============================] - 5s 19ms/step - loss: 0.4100 - mean_absolute_error: 0.4160 - val_loss: 0.3651 - val_mean_absolute_error: 0.3527\n",
            "Epoch 3/1024\n",
            "281/281 [==============================] - 6s 20ms/step - loss: 0.2403 - mean_absolute_error: 0.3245 - val_loss: 0.2972 - val_mean_absolute_error: 0.3207\n",
            "Epoch 4/1024\n",
            "281/281 [==============================] - 6s 20ms/step - loss: 0.2002 - mean_absolute_error: 0.2995 - val_loss: 0.2579 - val_mean_absolute_error: 0.3018\n",
            "Epoch 5/1024\n",
            "281/281 [==============================] - 6s 20ms/step - loss: 0.1785 - mean_absolute_error: 0.2852 - val_loss: 0.2113 - val_mean_absolute_error: 0.2869\n",
            "Epoch 6/1024\n",
            "281/281 [==============================] - 6s 20ms/step - loss: 0.1561 - mean_absolute_error: 0.2715 - val_loss: 0.1853 - val_mean_absolute_error: 0.2729\n",
            "Epoch 7/1024\n",
            "281/281 [==============================] - 6s 20ms/step - loss: 0.1418 - mean_absolute_error: 0.2592 - val_loss: 0.1753 - val_mean_absolute_error: 0.2633\n",
            "Epoch 8/1024\n",
            "281/281 [==============================] - 6s 20ms/step - loss: 0.1348 - mean_absolute_error: 0.2522 - val_loss: 0.1622 - val_mean_absolute_error: 0.2575\n",
            "Epoch 9/1024\n",
            "281/281 [==============================] - 6s 20ms/step - loss: 0.1287 - mean_absolute_error: 0.2464 - val_loss: 0.1573 - val_mean_absolute_error: 0.2526\n",
            "Epoch 10/1024\n",
            "281/281 [==============================] - 6s 20ms/step - loss: 0.1254 - mean_absolute_error: 0.2424 - val_loss: 0.1534 - val_mean_absolute_error: 0.2492\n",
            "Epoch 11/1024\n",
            "281/281 [==============================] - 6s 20ms/step - loss: 0.1234 - mean_absolute_error: 0.2406 - val_loss: 0.1457 - val_mean_absolute_error: 0.2463\n",
            "Epoch 12/1024\n",
            "281/281 [==============================] - 6s 20ms/step - loss: 0.1204 - mean_absolute_error: 0.2377 - val_loss: 0.1456 - val_mean_absolute_error: 0.2446\n",
            "Epoch 13/1024\n",
            "281/281 [==============================] - 6s 20ms/step - loss: 0.1194 - mean_absolute_error: 0.2367 - val_loss: 0.1430 - val_mean_absolute_error: 0.2423\n",
            "Epoch 14/1024\n",
            "281/281 [==============================] - 6s 20ms/step - loss: 0.1182 - mean_absolute_error: 0.2351 - val_loss: 0.1405 - val_mean_absolute_error: 0.2417\n",
            "Epoch 15/1024\n",
            "281/281 [==============================] - 6s 20ms/step - loss: 0.1170 - mean_absolute_error: 0.2338 - val_loss: 0.1410 - val_mean_absolute_error: 0.2417\n",
            "Epoch 16/1024\n",
            "281/281 [==============================] - 5s 19ms/step - loss: 0.1163 - mean_absolute_error: 0.2330 - val_loss: 0.1408 - val_mean_absolute_error: 0.2394\n",
            "\n",
            "Epoch 00016: Reducing Max LR on Plateau: new max lr will be 2.5e-05 (if not early_stopping).\n",
            "Epoch 17/1024\n",
            "281/281 [==============================] - 6s 20ms/step - loss: 0.1152 - mean_absolute_error: 0.2313 - val_loss: 0.1390 - val_mean_absolute_error: 0.2393\n",
            "Epoch 18/1024\n",
            "281/281 [==============================] - 6s 20ms/step - loss: 0.1147 - mean_absolute_error: 0.2306 - val_loss: 0.1385 - val_mean_absolute_error: 0.2394\n",
            "Epoch 19/1024\n",
            "281/281 [==============================] - 6s 20ms/step - loss: 0.1144 - mean_absolute_error: 0.2306 - val_loss: 0.1387 - val_mean_absolute_error: 0.2386\n",
            "Epoch 20/1024\n",
            "281/281 [==============================] - 6s 20ms/step - loss: 0.1140 - mean_absolute_error: 0.2300 - val_loss: 0.1391 - val_mean_absolute_error: 0.2383\n",
            "\n",
            "Epoch 00020: Reducing Max LR on Plateau: new max lr will be 1.25e-05 (if not early_stopping).\n",
            "Epoch 21/1024\n",
            "281/281 [==============================] - 6s 20ms/step - loss: 0.1135 - mean_absolute_error: 0.2288 - val_loss: 0.1382 - val_mean_absolute_error: 0.2385\n",
            "Epoch 22/1024\n",
            "281/281 [==============================] - 6s 20ms/step - loss: 0.1133 - mean_absolute_error: 0.2288 - val_loss: 0.1378 - val_mean_absolute_error: 0.2377\n",
            "Epoch 23/1024\n",
            "281/281 [==============================] - 6s 20ms/step - loss: 0.1132 - mean_absolute_error: 0.2284 - val_loss: 0.1379 - val_mean_absolute_error: 0.2383\n",
            "Epoch 24/1024\n",
            "281/281 [==============================] - 6s 20ms/step - loss: 0.1130 - mean_absolute_error: 0.2284 - val_loss: 0.1380 - val_mean_absolute_error: 0.2375\n",
            "\n",
            "Epoch 00024: Reducing Max LR on Plateau: new max lr will be 6.25e-06 (if not early_stopping).\n",
            "Epoch 25/1024\n",
            "281/281 [==============================] - 6s 20ms/step - loss: 0.1127 - mean_absolute_error: 0.2278 - val_loss: 0.1377 - val_mean_absolute_error: 0.2369\n",
            "Epoch 26/1024\n",
            "281/281 [==============================] - 6s 20ms/step - loss: 0.1124 - mean_absolute_error: 0.2276 - val_loss: 0.1373 - val_mean_absolute_error: 0.2375\n",
            "Epoch 27/1024\n",
            "281/281 [==============================] - 6s 20ms/step - loss: 0.1125 - mean_absolute_error: 0.2275 - val_loss: 0.1373 - val_mean_absolute_error: 0.2374\n",
            "Epoch 28/1024\n",
            "281/281 [==============================] - 5s 20ms/step - loss: 0.1122 - mean_absolute_error: 0.2274 - val_loss: 0.1373 - val_mean_absolute_error: 0.2370\n",
            "Epoch 29/1024\n",
            "281/281 [==============================] - 6s 20ms/step - loss: 0.1122 - mean_absolute_error: 0.2273 - val_loss: 0.1374 - val_mean_absolute_error: 0.2368\n",
            "\n",
            "Epoch 00029: Reducing Max LR on Plateau: new max lr will be 3.125e-06 (if not early_stopping).\n",
            "Epoch 30/1024\n",
            "281/281 [==============================] - 6s 20ms/step - loss: 0.1120 - mean_absolute_error: 0.2268 - val_loss: 0.1373 - val_mean_absolute_error: 0.2371\n",
            "Epoch 31/1024\n",
            "281/281 [==============================] - 6s 20ms/step - loss: 0.1119 - mean_absolute_error: 0.2268 - val_loss: 0.1371 - val_mean_absolute_error: 0.2369\n",
            "Epoch 32/1024\n",
            "281/281 [==============================] - 6s 20ms/step - loss: 0.1119 - mean_absolute_error: 0.2267 - val_loss: 0.1370 - val_mean_absolute_error: 0.2368\n",
            "Epoch 33/1024\n",
            "281/281 [==============================] - 6s 20ms/step - loss: 0.1118 - mean_absolute_error: 0.2266 - val_loss: 0.1370 - val_mean_absolute_error: 0.2368\n",
            "Epoch 34/1024\n",
            "281/281 [==============================] - 5s 19ms/step - loss: 0.1117 - mean_absolute_error: 0.2267 - val_loss: 0.1370 - val_mean_absolute_error: 0.2365\n",
            "Epoch 35/1024\n",
            "281/281 [==============================] - 6s 20ms/step - loss: 0.1117 - mean_absolute_error: 0.2266 - val_loss: 0.1371 - val_mean_absolute_error: 0.2364\n",
            "\n",
            "Epoch 00035: Reducing Max LR on Plateau: new max lr will be 1.5625e-06 (if not early_stopping).\n",
            "Epoch 36/1024\n",
            "281/281 [==============================] - 6s 22ms/step - loss: 0.1116 - mean_absolute_error: 0.2262 - val_loss: 0.1367 - val_mean_absolute_error: 0.2363\n",
            "Epoch 37/1024\n",
            "281/281 [==============================] - 5s 19ms/step - loss: 0.1115 - mean_absolute_error: 0.2262 - val_loss: 0.1369 - val_mean_absolute_error: 0.2364\n",
            "Epoch 38/1024\n",
            "281/281 [==============================] - 5s 20ms/step - loss: 0.1115 - mean_absolute_error: 0.2262 - val_loss: 0.1367 - val_mean_absolute_error: 0.2366\n",
            "\n",
            "Epoch 00038: Reducing Max LR on Plateau: new max lr will be 7.8125e-07 (if not early_stopping).\n",
            "Epoch 39/1024\n",
            "281/281 [==============================] - 5s 19ms/step - loss: 0.1114 - mean_absolute_error: 0.2263 - val_loss: 0.1366 - val_mean_absolute_error: 0.2362\n",
            "Epoch 40/1024\n",
            "281/281 [==============================] - 5s 19ms/step - loss: 0.1114 - mean_absolute_error: 0.2259 - val_loss: 0.1368 - val_mean_absolute_error: 0.2362\n",
            "Epoch 41/1024\n",
            "281/281 [==============================] - 5s 19ms/step - loss: 0.1114 - mean_absolute_error: 0.2261 - val_loss: 0.1368 - val_mean_absolute_error: 0.2364\n",
            "\n",
            "Epoch 00041: Reducing Max LR on Plateau: new max lr will be 3.90625e-07 (if not early_stopping).\n",
            "Epoch 42/1024\n",
            "281/281 [==============================] - 5s 19ms/step - loss: 0.1113 - mean_absolute_error: 0.2259 - val_loss: 0.1369 - val_mean_absolute_error: 0.2363\n",
            "Epoch 43/1024\n",
            "281/281 [==============================] - 5s 19ms/step - loss: 0.1113 - mean_absolute_error: 0.2258 - val_loss: 0.1368 - val_mean_absolute_error: 0.2363\n",
            "\n",
            "Epoch 00043: Reducing Max LR on Plateau: new max lr will be 1.953125e-07 (if not early_stopping).\n",
            "Epoch 44/1024\n",
            "281/281 [==============================] - 6s 20ms/step - loss: 0.1113 - mean_absolute_error: 0.2261 - val_loss: 0.1365 - val_mean_absolute_error: 0.2364\n",
            "Epoch 45/1024\n",
            "281/281 [==============================] - 6s 20ms/step - loss: 0.1112 - mean_absolute_error: 0.2260 - val_loss: 0.1366 - val_mean_absolute_error: 0.2364\n",
            "Epoch 46/1024\n",
            "281/281 [==============================] - 5s 19ms/step - loss: 0.1112 - mean_absolute_error: 0.2257 - val_loss: 0.1369 - val_mean_absolute_error: 0.2365\n",
            "\n",
            "Epoch 00046: Reducing Max LR on Plateau: new max lr will be 9.765625e-08 (if not early_stopping).\n",
            "Epoch 47/1024\n",
            "281/281 [==============================] - 5s 19ms/step - loss: 0.1112 - mean_absolute_error: 0.2259 - val_loss: 0.1366 - val_mean_absolute_error: 0.2362\n",
            "Epoch 48/1024\n",
            "281/281 [==============================] - 5s 19ms/step - loss: 0.1112 - mean_absolute_error: 0.2257 - val_loss: 0.1366 - val_mean_absolute_error: 0.2360\n",
            "Epoch 49/1024\n",
            "281/281 [==============================] - 5s 19ms/step - loss: 0.1111 - mean_absolute_error: 0.2254 - val_loss: 0.1368 - val_mean_absolute_error: 0.2361\n",
            "Restoring model weights from the end of the best epoch.\n",
            "Epoch 00049: early stopping\n",
            "Weights from best epoch have been loaded into model.\n"
          ],
          "name": "stdout"
        },
        {
          "output_type": "execute_result",
          "data": {
            "text/plain": [
              "<tensorflow.python.keras.callbacks.History at 0x7fcda869dba8>"
            ]
          },
          "metadata": {
            "tags": []
          },
          "execution_count": 77
        }
      ]
    },
    {
      "cell_type": "code",
      "metadata": {
        "id": "0OpMS6Zr3G02"
      },
      "source": [
        "predictor = ktrain.get_predictor(learner.model, preproc)"
      ],
      "execution_count": 78,
      "outputs": []
    },
    {
      "cell_type": "code",
      "metadata": {
        "id": "wk3P4dci7Qih"
      },
      "source": [
        "preds = predictor.predict(test_processed)"
      ],
      "execution_count": 79,
      "outputs": []
    },
    {
      "cell_type": "code",
      "metadata": {
        "colab": {
          "base_uri": "https://localhost:8080/"
        },
        "id": "C4UKD5XiAoDW",
        "outputId": "7f67e480-92df-484f-ef02-5b52fc90e0cc"
      },
      "source": [
        "preds.flatten()"
      ],
      "execution_count": 80,
      "outputs": [
        {
          "output_type": "execute_result",
          "data": {
            "text/plain": [
              "array([3.723648 , 3.68085  , 4.0112605, ..., 3.805924 , 3.8146253,\n",
              "       3.9419663], dtype=float32)"
            ]
          },
          "metadata": {
            "tags": []
          },
          "execution_count": 80
        }
      ]
    },
    {
      "cell_type": "code",
      "metadata": {
        "id": "ERSgjhjxAt22"
      },
      "source": [
        "sub = pd.read_csv('./submission.csv', index_col = 'id')\r\n",
        "sub['book_rating'] = preds.flatten()"
      ],
      "execution_count": 81,
      "outputs": []
    },
    {
      "cell_type": "code",
      "metadata": {
        "id": "i1JmPaCIBIjc"
      },
      "source": [
        "sub.to_csv('./my_sub_new_2.csv')"
      ],
      "execution_count": 82,
      "outputs": []
    },
    {
      "cell_type": "code",
      "metadata": {
        "colab": {
          "base_uri": "https://localhost:8080/"
        },
        "id": "9rAU2dEQBLqu",
        "outputId": "94f707e1-2fcd-4c00-c342-04cc7ba9e1f3"
      },
      "source": [
        "# Saving Json file\r\n",
        "model_json = learner.model.to_json()\r\n",
        "with open(\"model.json\", \"w\") as json_file:\r\n",
        "    json_file.write(model_json)\r\n",
        "# Saving Weights\r\n",
        "learner.model.save_weights(\"model.h5\")\r\n",
        "print(\"Saved model to disk\")"
      ],
      "execution_count": 294,
      "outputs": [
        {
          "output_type": "stream",
          "text": [
            "Saved model to disk\n"
          ],
          "name": "stdout"
        }
      ]
    },
    {
      "cell_type": "code",
      "metadata": {
        "id": "ptNqPYSdmDOs"
      },
      "source": [
        ""
      ],
      "execution_count": null,
      "outputs": []
    }
  ]
}